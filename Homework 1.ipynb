{
 "cells": [
  {
   "cell_type": "markdown",
   "metadata": {},
   "source": [
    "###  <center> Homework 1 - Due 18/7/2018 2359 Hrs"
   ]
  },
  {
   "cell_type": "markdown",
   "metadata": {},
   "source": [
    "__Problem:__ Write a python program on Jupyter notebook that takes control of your mouse/cursor and does the following upon running the program: \n",
    "1. Move the cursor to the top left of your screen\n",
    "2. Then move the cursor to the top right\n",
    "3. Then bottom right\n",
    "4. Then bottom left\n",
    "5. Then to the center of your screen"
   ]
  },
  {
   "cell_type": "markdown",
   "metadata": {},
   "source": [
    "__Hints:__ Install a module called pyautogui by typing the following into your notebook. Then experiment with the sample code provided."
   ]
  },
  {
   "cell_type": "code",
   "execution_count": null,
   "metadata": {},
   "outputs": [],
   "source": [
    "!pip install pyautogui"
   ]
  },
  {
   "cell_type": "code",
   "execution_count": null,
   "metadata": {},
   "outputs": [],
   "source": [
    "#First begin by importing the module/library that we need\n",
    "import pyautogui\n",
    "\n",
    "#Create a fail-safe option to break out of the program in case your code gets stuck in some loop and you want to end it.\n",
    "pyautogui.FAILSAFE = True\n",
    "\n",
    "#Obtain the width and height of your screen and assign them to variables for easy reference\n",
    "width, height = pyautogui.size()\n",
    "\n",
    "#sample function to move the cursor\n",
    "pyautogui.moveTo(width, height, duration= 1)\n",
    "pyautogui.moveTo(width/2, height/2, duration= 1)"
   ]
  },
  {
   "cell_type": "markdown",
   "metadata": {},
   "source": [
    "__Further Reading:__\n",
    "1. https://automatetheboringstuff.com/chapter18/\n",
    "2. http://pyautogui.readthedocs.io/en/latest/"
   ]
  }
 ],
 "metadata": {
  "kernelspec": {
   "display_name": "Python 3",
   "language": "python",
   "name": "python3"
  },
  "language_info": {
   "codemirror_mode": {
    "name": "ipython",
    "version": 3
   },
   "file_extension": ".py",
   "mimetype": "text/x-python",
   "name": "python",
   "nbconvert_exporter": "python",
   "pygments_lexer": "ipython3",
   "version": "3.6.3"
  }
 },
 "nbformat": 4,
 "nbformat_minor": 2
}
