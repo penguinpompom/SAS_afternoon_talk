{
  "cells": [
    {
      "metadata": {
        "slideshow": {
          "slide_type": "slide"
        }
      },
      "cell_type": "markdown",
      "source": "### <center> Lesson 0 - Introduction to basic Python operations"
    },
    {
      "metadata": {
        "slideshow": {
          "slide_type": "slide"
        }
      },
      "cell_type": "markdown",
      "source": "# Table of Contents\n1. Numerical Operations\n2. Fancy Math\n3. Assigning Variables\n4. String Operations\n5. Containers\n6. Functions"
    },
    {
      "metadata": {},
      "cell_type": "markdown",
      "source": "Use Shift-Enter or Ctrl-Enter to run a cell."
    },
    {
      "metadata": {
        "slideshow": {
          "slide_type": "slide"
        }
      },
      "cell_type": "markdown",
      "source": "#### 1. Numerical Operations \nAddition / Subtraction / Multiplication / Division / Exponentiation / Modulus"
    },
    {
      "metadata": {
        "slideshow": {
          "slide_type": "slide"
        }
      },
      "cell_type": "markdown",
      "source": "![alt text](Numerical_Operators.PNG \"Title\")"
    },
    {
      "metadata": {
        "slideshow": {
          "slide_type": "subslide"
        },
        "trusted": false
      },
      "cell_type": "code",
      "source": "12 + 38",
      "execution_count": 1,
      "outputs": [
        {
          "data": {
            "text/plain": "50"
          },
          "execution_count": 1,
          "metadata": {},
          "output_type": "execute_result"
        }
      ]
    },
    {
      "metadata": {
        "slideshow": {
          "slide_type": "fragment"
        },
        "trusted": false
      },
      "cell_type": "code",
      "source": "48 - 24",
      "execution_count": 2,
      "outputs": [
        {
          "data": {
            "text/plain": "24"
          },
          "execution_count": 2,
          "metadata": {},
          "output_type": "execute_result"
        }
      ]
    },
    {
      "metadata": {
        "scrolled": true,
        "slideshow": {
          "slide_type": "fragment"
        },
        "trusted": false
      },
      "cell_type": "code",
      "source": "16 * 2",
      "execution_count": 3,
      "outputs": [
        {
          "data": {
            "text/plain": "32"
          },
          "execution_count": 3,
          "metadata": {},
          "output_type": "execute_result"
        }
      ]
    },
    {
      "metadata": {
        "slideshow": {
          "slide_type": "fragment"
        },
        "trusted": false
      },
      "cell_type": "code",
      "source": "16 / 2",
      "execution_count": 1,
      "outputs": [
        {
          "data": {
            "text/plain": "8.0"
          },
          "execution_count": 1,
          "metadata": {},
          "output_type": "execute_result"
        }
      ]
    },
    {
      "metadata": {
        "slideshow": {
          "slide_type": "fragment"
        },
        "trusted": false
      },
      "cell_type": "code",
      "source": "6 ** 2",
      "execution_count": 5,
      "outputs": [
        {
          "data": {
            "text/plain": "36"
          },
          "execution_count": 5,
          "metadata": {},
          "output_type": "execute_result"
        }
      ]
    },
    {
      "metadata": {
        "slideshow": {
          "slide_type": "fragment"
        },
        "trusted": false
      },
      "cell_type": "code",
      "source": "13 % 3",
      "execution_count": null,
      "outputs": []
    },
    {
      "metadata": {
        "slideshow": {
          "slide_type": "slide"
        }
      },
      "cell_type": "markdown",
      "source": "#### 2. Fancy Math"
    },
    {
      "metadata": {
        "slideshow": {
          "slide_type": "fragment"
        }
      },
      "cell_type": "markdown",
      "source": "__On the spot exercise:__\n\nQN:  Calculate $ln(10)$"
    },
    {
      "metadata": {
        "slideshow": {
          "slide_type": "fragment"
        },
        "trusted": true
      },
      "cell_type": "code",
      "source": "import math\nmath.log(10)",
      "execution_count": 1,
      "outputs": [
        {
          "output_type": "execute_result",
          "execution_count": 1,
          "data": {
            "text/plain": "2.302585092994046"
          },
          "metadata": {}
        }
      ]
    },
    {
      "metadata": {
        "slideshow": {
          "slide_type": "fragment"
        }
      },
      "cell_type": "markdown",
      "source": "__On the spot exercise:__\n\nQN:  Calculate $log(10)$"
    },
    {
      "metadata": {
        "slideshow": {
          "slide_type": "fragment"
        },
        "trusted": false
      },
      "cell_type": "code",
      "source": "math.log10(10)",
      "execution_count": null,
      "outputs": []
    },
    {
      "metadata": {
        "slideshow": {
          "slide_type": "subslide"
        }
      },
      "cell_type": "markdown",
      "source": "__On the spot exercise:__\n\nQN:  Calculate $e^4$"
    },
    {
      "metadata": {
        "slideshow": {
          "slide_type": "fragment"
        },
        "trusted": false
      },
      "cell_type": "code",
      "source": "from math import log\nlog(10)",
      "execution_count": 13,
      "outputs": [
        {
          "data": {
            "text/plain": "2.302585092994046"
          },
          "execution_count": 13,
          "metadata": {},
          "output_type": "execute_result"
        }
      ]
    },
    {
      "metadata": {
        "slideshow": {
          "slide_type": "subslide"
        }
      },
      "cell_type": "markdown",
      "source": "We can string numerical operations together and use brackets to determine the order of operation as well.\n__On the spot exercise:__\n\nQN:  Solve the following:\n$$38 + \\bigg(\\frac{(24 - 4)}{3}\\Big)^3 - ln(3)$$"
    },
    {
      "metadata": {
        "slideshow": {
          "slide_type": "fragment"
        },
        "trusted": false
      },
      "cell_type": "code",
      "source": "38 + ((24 - 4)/3)**3 - math.log(3)",
      "execution_count": 15,
      "outputs": [
        {
          "data": {
            "text/plain": "333.19768400762825"
          },
          "execution_count": 15,
          "metadata": {},
          "output_type": "execute_result"
        }
      ]
    },
    {
      "metadata": {
        "slideshow": {
          "slide_type": "fragment"
        }
      },
      "cell_type": "markdown",
      "source": "What if we want to round it off to the nearest 3 decimal places?"
    },
    {
      "metadata": {
        "slideshow": {
          "slide_type": "fragment"
        },
        "trusted": false
      },
      "cell_type": "code",
      "source": "round(38 + ((24 - 4)/3)**3 - math.log(3),3)",
      "execution_count": null,
      "outputs": []
    },
    {
      "metadata": {
        "slideshow": {
          "slide_type": "slide"
        }
      },
      "cell_type": "markdown",
      "source": "#### 3. Assigning Variables"
    },
    {
      "metadata": {
        "slideshow": {
          "slide_type": "subslide"
        }
      },
      "cell_type": "markdown",
      "source": "Variables are reserved memory locations to store values. This means that when you create a variable you reserve some space in memory.\n\nBased on the data type of a variable, the interpreter allocates memory and decides what can be stored in the reserved memory. Therefore, by assigning different data types to variables, you can store integers, decimals or characters in these variables\n\nPython variables do not need explicit declaration to reserve memory space. The declaration happens automatically when you assign a value to a variable. The equal sign (=) is used to assign values to variables.\n\nThe operand to the left of the = operator is the name of the variable and the operand to the right of the = operator is the value stored in the variable."
    },
    {
      "metadata": {
        "slideshow": {
          "slide_type": "subslide"
        },
        "trusted": false
      },
      "cell_type": "code",
      "source": "a = 6\nb = 5\nc = a + b\nprint(c)",
      "execution_count": 16,
      "outputs": [
        {
          "name": "stdout",
          "output_type": "stream",
          "text": "11\n"
        }
      ]
    },
    {
      "metadata": {
        "slideshow": {
          "slide_type": "fragment"
        },
        "trusted": false
      },
      "cell_type": "code",
      "source": "x = 7.5\ny = 2\nz = x/y\nz",
      "execution_count": 17,
      "outputs": [
        {
          "data": {
            "text/plain": "3.75"
          },
          "execution_count": 17,
          "metadata": {},
          "output_type": "execute_result"
        }
      ]
    },
    {
      "metadata": {
        "slideshow": {
          "slide_type": "fragment"
        },
        "trusted": false
      },
      "cell_type": "code",
      "source": "round(z,1)",
      "execution_count": 18,
      "outputs": [
        {
          "data": {
            "text/plain": "3.8"
          },
          "execution_count": 18,
          "metadata": {},
          "output_type": "execute_result"
        }
      ]
    },
    {
      "metadata": {
        "slideshow": {
          "slide_type": "subslide"
        }
      },
      "cell_type": "markdown",
      "source": "__On the spot exercise:__\n\nQN:  Calculate the present value of $20000 due in 5 years at 4% annual effective rate of interest __:)__"
    },
    {
      "metadata": {
        "slideshow": {
          "slide_type": "fragment"
        },
        "trusted": false
      },
      "cell_type": "code",
      "source": "lump_sum = 20000\nyears = 5\ninterest = 0.04\npv = lump_sum * (1 + interest)**(-years)\nprint(round(pv))",
      "execution_count": 19,
      "outputs": [
        {
          "name": "stdout",
          "output_type": "stream",
          "text": "16439\n"
        }
      ]
    },
    {
      "metadata": {
        "slideshow": {
          "slide_type": "fragment"
        }
      },
      "cell_type": "markdown",
      "source": "Note: Notice the \"In [n]:\" and \"Out[n]:\" ? The \"In\" stands for input and \"Out\" stands for output. The number in the bracket refers to the order in which the code/cell was run."
    },
    {
      "metadata": {
        "slideshow": {
          "slide_type": "subslide"
        },
        "trusted": false
      },
      "cell_type": "code",
      "source": "lump_sum = float(input('Sum Assured:'))\nyears = float(input('Number of years:'))\ninterest = float(input('Annual Effective Rate of Interest:'))\npv = lump_sum * (1 + interest)**(-years)\nprint('Present Value is: ',round(pv))",
      "execution_count": 20,
      "outputs": [
        {
          "name": "stdout",
          "output_type": "stream",
          "text": "Sum Assured:700000\nNumber of years:12\nAnnual Effective Rate of Interest:0.09\nPresent Value is:  248874\n"
        }
      ]
    },
    {
      "metadata": {
        "slideshow": {
          "slide_type": "slide"
        }
      },
      "cell_type": "markdown",
      "source": "#### 4. String Operations "
    },
    {
      "metadata": {
        "slideshow": {
          "slide_type": "fragment"
        },
        "trusted": false
      },
      "cell_type": "code",
      "source": "print('hello world!')",
      "execution_count": 21,
      "outputs": [
        {
          "name": "stdout",
          "output_type": "stream",
          "text": "hello world!\n"
        }
      ]
    },
    {
      "metadata": {
        "slideshow": {
          "slide_type": "fragment"
        },
        "trusted": false
      },
      "cell_type": "code",
      "source": "print('hello world.' + 'my name is karthik!')",
      "execution_count": 22,
      "outputs": [
        {
          "name": "stdout",
          "output_type": "stream",
          "text": "hello world.my name is karthik!\n"
        }
      ]
    },
    {
      "metadata": {
        "slideshow": {
          "slide_type": "fragment"
        },
        "trusted": false
      },
      "cell_type": "code",
      "source": "name = 'karthik'\nprint('hello!I am ' + name)",
      "execution_count": 23,
      "outputs": [
        {
          "name": "stdout",
          "output_type": "stream",
          "text": "hello!I am karthik\n"
        }
      ]
    },
    {
      "metadata": {
        "slideshow": {
          "slide_type": "subslide"
        },
        "trusted": false
      },
      "cell_type": "code",
      "source": "print('hello my name is ' + name + ' and my name has ' + len(name) + ' in it!')",
      "execution_count": 24,
      "outputs": [
        {
          "ename": "TypeError",
          "evalue": "Can't convert 'int' object to str implicitly",
          "output_type": "error",
          "traceback": [
            "\u001b[0;31m---------------------------------------------------------------------------\u001b[0m",
            "\u001b[0;31mTypeError\u001b[0m                                 Traceback (most recent call last)",
            "\u001b[0;32m<ipython-input-24-16ec1cc5cd54>\u001b[0m in \u001b[0;36m<module>\u001b[0;34m()\u001b[0m\n\u001b[0;32m----> 1\u001b[0;31m \u001b[0mprint\u001b[0m\u001b[0;34m(\u001b[0m\u001b[0;34m'hello my name is '\u001b[0m \u001b[0;34m+\u001b[0m \u001b[0mname\u001b[0m \u001b[0;34m+\u001b[0m \u001b[0;34m' and my name has '\u001b[0m \u001b[0;34m+\u001b[0m \u001b[0mlen\u001b[0m\u001b[0;34m(\u001b[0m\u001b[0mname\u001b[0m\u001b[0;34m)\u001b[0m \u001b[0;34m+\u001b[0m \u001b[0;34m' in it!'\u001b[0m\u001b[0;34m)\u001b[0m\u001b[0;34m\u001b[0m\u001b[0m\n\u001b[0m",
            "\u001b[0;31mTypeError\u001b[0m: Can't convert 'int' object to str implicitly"
          ]
        }
      ]
    },
    {
      "metadata": {
        "slideshow": {
          "slide_type": "fragment"
        }
      },
      "cell_type": "markdown",
      "source": "Notice the error above? It happens because len(name) produces a numerical output and Python doesnt understand how to add strings and numbers together. To fix this, we could wrap len(name) with the str() function."
    },
    {
      "metadata": {
        "slideshow": {
          "slide_type": "fragment"
        },
        "trusted": false
      },
      "cell_type": "code",
      "source": "print('hello my name is ' + name + ' and my name has ' + str(len(name)) + ' letters in it!')",
      "execution_count": null,
      "outputs": []
    },
    {
      "metadata": {
        "slideshow": {
          "slide_type": "slide"
        }
      },
      "cell_type": "markdown",
      "source": "#### 5. Containers"
    },
    {
      "metadata": {
        "slideshow": {
          "slide_type": "subslide"
        }
      },
      "cell_type": "markdown",
      "source": "__Lists__\n<p> A type of data structure in Python that is changeable and contains items in a specific order. Lists are defined by having values between square brackets [ ]. </p>\nLists are generally used to keep data together that belongs together, condense code, and perform the same methods and operations on multiple values at once. The following is an example of a list:\n"
    },
    {
      "metadata": {
        "slideshow": {
          "slide_type": "subslide"
        },
        "trusted": false
      },
      "cell_type": "code",
      "source": "make = ['BMW', 'Mercedes', 'Audi', 'Honda', 'Nissan', 'Hyundai', 'Porsche']",
      "execution_count": 25,
      "outputs": []
    },
    {
      "metadata": {
        "slideshow": {
          "slide_type": "fragment"
        }
      },
      "cell_type": "markdown",
      "source": "We can get the number of items in a list using the len() function just as we did for strings."
    },
    {
      "metadata": {
        "slideshow": {
          "slide_type": "fragment"
        },
        "trusted": false
      },
      "cell_type": "code",
      "source": "len(make)",
      "execution_count": 26,
      "outputs": [
        {
          "data": {
            "text/plain": "7"
          },
          "execution_count": 26,
          "metadata": {},
          "output_type": "execute_result"
        }
      ]
    },
    {
      "metadata": {
        "slideshow": {
          "slide_type": "subslide"
        }
      },
      "cell_type": "markdown",
      "source": "We can obtain elements within a list by selecting using their index (position within the list). We do so by typing the name of the list followed by 'selectors': square brackets [ ] "
    },
    {
      "metadata": {
        "slideshow": {
          "slide_type": "fragment"
        },
        "trusted": false
      },
      "cell_type": "code",
      "source": "make[0]",
      "execution_count": 27,
      "outputs": [
        {
          "data": {
            "text/plain": "'BMW'"
          },
          "execution_count": 27,
          "metadata": {},
          "output_type": "execute_result"
        }
      ]
    },
    {
      "metadata": {
        "slideshow": {
          "slide_type": "fragment"
        },
        "trusted": false
      },
      "cell_type": "code",
      "source": "make[3]",
      "execution_count": 28,
      "outputs": [
        {
          "data": {
            "text/plain": "'Honda'"
          },
          "execution_count": 28,
          "metadata": {},
          "output_type": "execute_result"
        }
      ]
    },
    {
      "metadata": {
        "slideshow": {
          "slide_type": "fragment"
        },
        "trusted": false
      },
      "cell_type": "code",
      "source": "make[len(make)]",
      "execution_count": 29,
      "outputs": [
        {
          "ename": "IndexError",
          "evalue": "list index out of range",
          "output_type": "error",
          "traceback": [
            "\u001b[0;31m---------------------------------------------------------------------------\u001b[0m",
            "\u001b[0;31mIndexError\u001b[0m                                Traceback (most recent call last)",
            "\u001b[0;32m<ipython-input-29-4722373f079b>\u001b[0m in \u001b[0;36m<module>\u001b[0;34m()\u001b[0m\n\u001b[0;32m----> 1\u001b[0;31m \u001b[0mmake\u001b[0m\u001b[0;34m[\u001b[0m\u001b[0mlen\u001b[0m\u001b[0;34m(\u001b[0m\u001b[0mmake\u001b[0m\u001b[0;34m)\u001b[0m\u001b[0;34m]\u001b[0m\u001b[0;34m\u001b[0m\u001b[0m\n\u001b[0m",
            "\u001b[0;31mIndexError\u001b[0m: list index out of range"
          ]
        }
      ]
    },
    {
      "metadata": {
        "slideshow": {
          "slide_type": "subslide"
        },
        "trusted": false
      },
      "cell_type": "code",
      "source": "make[len(make) - 1]",
      "execution_count": 30,
      "outputs": [
        {
          "data": {
            "text/plain": "'Porsche'"
          },
          "execution_count": 30,
          "metadata": {},
          "output_type": "execute_result"
        }
      ]
    },
    {
      "metadata": {
        "slideshow": {
          "slide_type": "fragment"
        }
      },
      "cell_type": "markdown",
      "source": "Note that Python is 0 - indexed. Which means Python starts counting from 0 instead of 1."
    },
    {
      "metadata": {
        "slideshow": {
          "slide_type": "fragment"
        },
        "trusted": false
      },
      "cell_type": "code",
      "source": "make[1:3]",
      "execution_count": 31,
      "outputs": [
        {
          "data": {
            "text/plain": "['Mercedes', 'Audi']"
          },
          "execution_count": 31,
          "metadata": {},
          "output_type": "execute_result"
        }
      ]
    },
    {
      "metadata": {
        "slideshow": {
          "slide_type": "fragment"
        },
        "trusted": false
      },
      "cell_type": "code",
      "source": "make.append('Volvo')\nmake",
      "execution_count": 32,
      "outputs": [
        {
          "data": {
            "text/plain": "['BMW', 'Mercedes', 'Audi', 'Honda', 'Nissan', 'Hyundai', 'Porsche', 'Volvo']"
          },
          "execution_count": 32,
          "metadata": {},
          "output_type": "execute_result"
        }
      ]
    },
    {
      "metadata": {
        "slideshow": {
          "slide_type": "subslide"
        },
        "trusted": false
      },
      "cell_type": "code",
      "source": "make[4] = 'Toyota'\nmake",
      "execution_count": 33,
      "outputs": [
        {
          "data": {
            "text/plain": "['BMW', 'Mercedes', 'Audi', 'Honda', 'Toyota', 'Hyundai', 'Porsche', 'Volvo']"
          },
          "execution_count": 33,
          "metadata": {},
          "output_type": "execute_result"
        }
      ]
    },
    {
      "metadata": {
        "slideshow": {
          "slide_type": "fragment"
        },
        "trusted": false
      },
      "cell_type": "code",
      "source": "make.insert(2,'Tesla')",
      "execution_count": 35,
      "outputs": []
    },
    {
      "metadata": {
        "slideshow": {
          "slide_type": "fragment"
        },
        "trusted": false
      },
      "cell_type": "code",
      "source": "make.sort()\nmake",
      "execution_count": 37,
      "outputs": [
        {
          "data": {
            "text/plain": "['Audi',\n 'BMW',\n 'Honda',\n 'Hyundai',\n 'Mercedes',\n 'Porsche',\n 'Tesla',\n 'Toyota',\n 'Volvo']"
          },
          "execution_count": 37,
          "metadata": {},
          "output_type": "execute_result"
        }
      ]
    },
    {
      "metadata": {
        "slideshow": {
          "slide_type": "subslide"
        }
      },
      "cell_type": "markdown",
      "source": "__Lets try writing some *Loops*__"
    },
    {
      "metadata": {
        "slideshow": {
          "slide_type": "fragment"
        },
        "trusted": false
      },
      "cell_type": "code",
      "source": "for i in range(len(make)):\n    print('i drive a ' + make[i])",
      "execution_count": 39,
      "outputs": [
        {
          "name": "stdout",
          "output_type": "stream",
          "text": "i drive a Audi\ni drive a BMW\ni drive a Honda\ni drive a Hyundai\ni drive a Mercedes\ni drive a Porsche\ni drive a Tesla\ni drive a Toyota\ni drive a Volvo\n"
        }
      ]
    },
    {
      "metadata": {
        "slideshow": {
          "slide_type": "subslide"
        },
        "trusted": false
      },
      "cell_type": "code",
      "source": "contains_a = []\nfor car in make:\n    if 'a' in car:\n        contains_a.append(car)\ncontains_a",
      "execution_count": 40,
      "outputs": [
        {
          "data": {
            "text/plain": "['Honda', 'Hyundai', 'Tesla', 'Toyota']"
          },
          "execution_count": 40,
          "metadata": {},
          "output_type": "execute_result"
        }
      ]
    },
    {
      "metadata": {
        "slideshow": {
          "slide_type": "fragment"
        },
        "trusted": false
      },
      "cell_type": "code",
      "source": "contains_a = []\nfor car in make:\n    if 'a' in car.lower():\n        contains_a.append(car)\ncontains_a",
      "execution_count": 41,
      "outputs": [
        {
          "data": {
            "text/plain": "['Audi', 'Honda', 'Hyundai', 'Tesla', 'Toyota']"
          },
          "execution_count": 41,
          "metadata": {},
          "output_type": "execute_result"
        }
      ]
    },
    {
      "metadata": {
        "slideshow": {
          "slide_type": "subslide"
        }
      },
      "cell_type": "markdown",
      "source": "__On the spot exercise:__\n\nQN:  Given a list of luxury car makes, determine which are the luxury cars in our make list.\n\nluxury = ['audi', 'mercedes', 'porsche', 'bmw']"
    },
    {
      "metadata": {
        "slideshow": {
          "slide_type": "fragment"
        },
        "trusted": false
      },
      "cell_type": "code",
      "source": "luxury = ['audi', 'mercedes', 'porsche', 'bmw']\n\nfor car in make:\n    if car.lower() in luxury:\n        print(car + ' is a luxury make.')\n        print('test')\n    else:\n        print(car + ' is not a luxury make')",
      "execution_count": 42,
      "outputs": [
        {
          "name": "stdout",
          "output_type": "stream",
          "text": "Audi is a luxury make.\ntest\nBMW is a luxury make.\ntest\nHonda is not a luxury make\nHyundai is not a luxury make\nMercedes is a luxury make.\ntest\nPorsche is a luxury make.\ntest\nTesla is not a luxury make\nToyota is not a luxury make\nVolvo is not a luxury make\n"
        }
      ]
    },
    {
      "metadata": {
        "slideshow": {
          "slide_type": "subslide"
        }
      },
      "cell_type": "markdown",
      "source": "__On the spot exercise:__\n\nQN:  Calculate the mean of the following list of numbers"
    },
    {
      "metadata": {
        "slideshow": {
          "slide_type": "fragment"
        },
        "trusted": false
      },
      "cell_type": "code",
      "source": "numbers = [12, 78, 36, 66, 908, 674, 23, 85]",
      "execution_count": null,
      "outputs": []
    },
    {
      "metadata": {
        "slideshow": {
          "slide_type": "fragment"
        },
        "trusted": false
      },
      "cell_type": "code",
      "source": "mean = sum(numbers)/len(numbers)\nmean    ",
      "execution_count": null,
      "outputs": []
    },
    {
      "metadata": {
        "slideshow": {
          "slide_type": "subslide"
        }
      },
      "cell_type": "markdown",
      "source": "__On the spot exercise:__\n\nQN:  Given a list of 'claims' from 2013 to 2017, determine the year to year loss development factors.\n\nclaims = [15300, 16830, 15999, 18120, 20000]"
    },
    {
      "metadata": {
        "slideshow": {
          "slide_type": "fragment"
        },
        "trusted": false
      },
      "cell_type": "code",
      "source": "ldf = []\nclaims = [15300, 16830, 15999, 18120, 20000]\n\nfor i in range(1,len(claims)):\n    ldf.append(round(claims[i]/claims[i - 1],4))\nldf",
      "execution_count": null,
      "outputs": []
    },
    {
      "metadata": {
        "slideshow": {
          "slide_type": "subslide"
        }
      },
      "cell_type": "markdown",
      "source": "__On the spot exercise:__\n\nQN:  Given a list of annual salaries, create a list that categorises each salary into the following bins.\n\nsalaries = [15300, 16830, 15999, 18120, 20000]\n\nlow = lesser than 15,500\n\nmid = between 15,500 and 19,000\n\nhigh = greater than 19,000"
    },
    {
      "metadata": {
        "slideshow": {
          "slide_type": "fragment"
        },
        "trusted": false
      },
      "cell_type": "code",
      "source": "income_bracket = []\nsalaries = [15300, 16830, 15999, 18120, 20000]\n\nfor salary in salaries:\n    if salary < 15500:\n        income_bracket.append('low')\n    elif salary < 19000:\n        income_bracket.append('mid')\n    else:\n        income_bracket.append('high')\n\nincome_bracket",
      "execution_count": null,
      "outputs": []
    },
    {
      "metadata": {
        "slideshow": {
          "slide_type": "slide"
        }
      },
      "cell_type": "markdown",
      "source": "__Dictionaries__\n<p> A Python dictionary is a mapping of unique keys to values. Dictionaries are mutable, which means they can be changed. The values that the keys point to can be any Python value. Dictionaries are unordered, so the order that the keys are added doesn't necessarily reflect what order they may be reported back. </p>"
    },
    {
      "metadata": {
        "slideshow": {
          "slide_type": "subslide"
        },
        "trusted": false
      },
      "cell_type": "code",
      "source": "make = ['BMW', 'Honda', 'Toyota', 'Hyundai', 'Honda', 'Toyota', 'Honda', 'Toyota', 'Porsche', 'Volvo', 'Honda', 'Toyota']",
      "execution_count": 43,
      "outputs": []
    },
    {
      "metadata": {
        "slideshow": {
          "slide_type": "fragment"
        },
        "trusted": false
      },
      "cell_type": "code",
      "source": "make_to_type = {'BMW': 'High-end',\n                'Honda': 'Low-end',\n                'Toyota': 'Low-end',\n                'Hyundai': 'Low-end',\n                'Porsche': 'High-end',\n                'Volvo': 'Mid-end'}",
      "execution_count": 44,
      "outputs": []
    },
    {
      "metadata": {
        "slideshow": {
          "slide_type": "fragment"
        },
        "trusted": false
      },
      "cell_type": "code",
      "source": "list(map(make_to_type.get,make))",
      "execution_count": 45,
      "outputs": [
        {
          "data": {
            "text/plain": "['High-end',\n 'Low-end',\n 'Low-end',\n 'Low-end',\n 'Low-end',\n 'Low-end',\n 'Low-end',\n 'Low-end',\n 'High-end',\n 'Mid-end',\n 'Low-end',\n 'Low-end']"
          },
          "execution_count": 45,
          "metadata": {},
          "output_type": "execute_result"
        }
      ]
    },
    {
      "metadata": {
        "slideshow": {
          "slide_type": "subslide"
        }
      },
      "cell_type": "markdown",
      "source": "#### 6. Functions"
    },
    {
      "metadata": {
        "slideshow": {
          "slide_type": "fragment"
        }
      },
      "cell_type": "markdown",
      "source": "You use functions in programming to bundle a set of instructions that you want to use repeatedly or that, because of their complexity, are better self-contained in a sub-program and called when needed. That means that a function is a piece of code written to carry out a specified task. To carry out that specific task, the function might or might not need multiple inputs. When the task is carried out, the function can or can not return one or more values.\n\nThe following are some examples of how functions are written:"
    },
    {
      "metadata": {
        "slideshow": {
          "slide_type": "subslide"
        },
        "trusted": false
      },
      "cell_type": "code",
      "source": "def sayhello(names):\n    for name in names:\n        print('hello ',name,'!')",
      "execution_count": 46,
      "outputs": []
    },
    {
      "metadata": {
        "slideshow": {
          "slide_type": "fragment"
        },
        "trusted": false
      },
      "cell_type": "code",
      "source": "attendees = ['karthik', 'fred', 'mudit']",
      "execution_count": 47,
      "outputs": []
    },
    {
      "metadata": {
        "slideshow": {
          "slide_type": "fragment"
        },
        "trusted": false
      },
      "cell_type": "code",
      "source": "sayhello(attendees)",
      "execution_count": 48,
      "outputs": [
        {
          "name": "stdout",
          "output_type": "stream",
          "text": "hello  karthik !\nhello  fred !\nhello  mudit !\n"
        }
      ]
    },
    {
      "metadata": {
        "slideshow": {
          "slide_type": "subslide"
        },
        "trusted": false
      },
      "cell_type": "code",
      "source": "def pv(lumpsum,interest,time):\n    '''comment'''\n    global i\n    i = 5\n    presentvalue = lumpsum * (1 + interest)**(-time)\n    return round(presentvalue,2)",
      "execution_count": 58,
      "outputs": []
    },
    {
      "metadata": {
        "slideshow": {
          "slide_type": "fragment"
        },
        "trusted": false
      },
      "cell_type": "code",
      "source": "i = 30000\npv(i,0.06,8)\n",
      "execution_count": 61,
      "outputs": [
        {
          "data": {
            "text/plain": "18822.37"
          },
          "execution_count": 61,
          "metadata": {},
          "output_type": "execute_result"
        }
      ]
    },
    {
      "metadata": {
        "slideshow": {
          "slide_type": "subslide"
        }
      },
      "cell_type": "markdown",
      "source": "__On the spot exercise:__\n\nQN:  Write a function that translates a list of chinese words to english and returns the list of english words.\n\nchinese = ['奥迪', '奔驰', '沃尔沃', '日产', '特斯拉']"
    },
    {
      "metadata": {
        "slideshow": {
          "slide_type": "fragment"
        },
        "trusted": false
      },
      "cell_type": "code",
      "source": "chinese = ['奥迪', '奔驰', '沃尔沃', '日产', '特斯拉']",
      "execution_count": 62,
      "outputs": []
    },
    {
      "metadata": {
        "slideshow": {
          "slide_type": "slide"
        },
        "trusted": false
      },
      "cell_type": "code",
      "source": "!pip install googletrans",
      "execution_count": 63,
      "outputs": [
        {
          "name": "stdout",
          "output_type": "stream",
          "text": "Collecting googletrans\n  Downloading https://files.pythonhosted.org/packages/49/0f/eac53560e99a6b1e3b3e18e8b98f0e0041bfc4f1ee1e1b74cdf5530786d0/googletrans-2.3.0.tar.gz\nRequirement already satisfied: requests in /home/nbuser/anaconda3_420/lib/python3.5/site-packages (from googletrans) (2.14.2)\nBuilding wheels for collected packages: googletrans\n  Running setup.py bdist_wheel for googletrans ... \u001b[?25ldone\n\u001b[?25h  Stored in directory: /home/nbuser/.cache/pip/wheels/20/4d/44/68645b18a45c887e97ff17013f273660567d7414e0ebabcb6a\nSuccessfully built googletrans\n\u001b[31mazure-cli-interactive 0.3.23 has requirement six~=1.11.0, but you'll have six 1.10.0 which is incompatible.\u001b[0m\n\u001b[31mazure-cli-core 2.0.38 has requirement pyopenssl>=17.1.0, but you'll have pyopenssl 16.2.0 which is incompatible.\u001b[0m\n\u001b[31mmsrest 0.5.1 has requirement requests~=2.16, but you'll have requests 2.14.2 which is incompatible.\u001b[0m\n\u001b[31mpyasn1-modules 0.2.1 has requirement pyasn1<0.5.0,>=0.4.1, but you'll have pyasn1 0.1.9 which is incompatible.\u001b[0m\nInstalling collected packages: googletrans\nSuccessfully installed googletrans-2.3.0\n"
        }
      ]
    },
    {
      "metadata": {
        "slideshow": {
          "slide_type": "subslide"
        },
        "trusted": false
      },
      "cell_type": "code",
      "source": "from googletrans import Translator\n\ndef zh_to_en(chinesewords, english=[]):\n    translator = Translator()\n    for word in chinesewords:\n        english.append(translator.translate(word).text)\n    return english",
      "execution_count": 64,
      "outputs": []
    },
    {
      "metadata": {
        "slideshow": {
          "slide_type": "fragment"
        },
        "trusted": false
      },
      "cell_type": "code",
      "source": "chinese",
      "execution_count": 65,
      "outputs": [
        {
          "data": {
            "text/plain": "['奥迪', '奔驰', '沃尔沃', '日产', '特斯拉']"
          },
          "execution_count": 65,
          "metadata": {},
          "output_type": "execute_result"
        }
      ]
    },
    {
      "metadata": {
        "slideshow": {
          "slide_type": "fragment"
        },
        "trusted": false
      },
      "cell_type": "code",
      "source": "zh_to_en(chinese)",
      "execution_count": 66,
      "outputs": [
        {
          "data": {
            "text/plain": "['Audi', 'Mercedes', 'Volvo', 'Nissan', 'Tesla']"
          },
          "execution_count": 66,
          "metadata": {},
          "output_type": "execute_result"
        }
      ]
    },
    {
      "metadata": {
        "slideshow": {
          "slide_type": "subslide"
        }
      },
      "cell_type": "markdown",
      "source": "__On the spot exercise:__\n\nQN: Write a function that takes in a list of claims developments in a given year and returns a list of LDFs for that year. Your function must be able to allow the option of selecting the number of decimal places to round off results to. By default, round off to 4 decimal places.\n\nclaims = [15300, 16830, 15999, 18120, 20000]"
    },
    {
      "metadata": {
        "slideshow": {
          "slide_type": "fragment"
        },
        "trusted": false
      },
      "cell_type": "code",
      "source": "def getldf(claims, dp=4):\n\n    ldf = []\n    for i in range(1, len(claims)):\n        ldf.append(round(claims[i]/claims[i - 1],dp))\n    return ldf",
      "execution_count": 76,
      "outputs": []
    },
    {
      "metadata": {
        "slideshow": {
          "slide_type": "fragment"
        },
        "trusted": false
      },
      "cell_type": "code",
      "source": "claims = [15300, 16830, 15999, 18120, 20000]\ngetldf(claims,dp = 8)",
      "execution_count": 77,
      "outputs": [
        {
          "data": {
            "text/plain": "[1.1, 0.95062389, 1.13257079, 1.10375276]"
          },
          "execution_count": 77,
          "metadata": {},
          "output_type": "execute_result"
        }
      ]
    },
    {
      "metadata": {
        "slideshow": {
          "slide_type": "subslide"
        }
      },
      "cell_type": "markdown",
      "source": "__On the spot exercise:__\n\nQN: Write a function that takes in a list of contract numbers. Then outputs 3 lists: 1 with contract numbers for a motor policies in 2018, 1 for travel policies in 2018, 1 for the ages of motor policyholders in 2018 and 1 for the ages of travel policyholders in 2018."
    },
    {
      "metadata": {
        "slideshow": {
          "slide_type": "fragment"
        },
        "trusted": true
      },
      "cell_type": "code",
      "source": "contractnumber = ['2018-motor/1002823', '2016-travel/1001698', '2017-motor/1005410', '2018-motor/1003046', '2018-travel/1003023',\n                  '2016-travel/1000911', '2018-motor/1006799', '2018-travel/1002086', '2017-travel/1003300', '2017-motor/1001629']",
      "execution_count": 2,
      "outputs": []
    },
    {
      "metadata": {
        "slideshow": {
          "slide_type": "subslide"
        },
        "trusted": true
      },
      "cell_type": "code",
      "source": "def cleandata(contracts):\n    \n    motor_2018 = []\n    travel_2018 = []\n    motor_2018_age = []\n    travel_2018_age = []\n    \n    for contract in contracts:\n        if (contract[:4] == '2018') and ('motor' in contract):\n            motor_2018.append(contract)\n        elif (contract[:4] == '2018') and ('travel' in contract):\n            travel_2018.append(contract)\n    for item in motor_2018:\n        motor_2018_age.append(item[-4:-2])\n    for item in travel_2018:\n        travel_2018_age.append(item[-4:-2])\n    \n    return motor_2018, travel_2018, motor_2018_age, travel_2018_age\n",
      "execution_count": 3,
      "outputs": []
    },
    {
      "metadata": {
        "slideshow": {
          "slide_type": "fragment"
        },
        "trusted": true
      },
      "cell_type": "code",
      "source": "cleandata(contractnumber)",
      "execution_count": 4,
      "outputs": [
        {
          "output_type": "execute_result",
          "execution_count": 4,
          "data": {
            "text/plain": "(['2018-motor/1002823', '2018-motor/1003046', '2018-motor/1006799'],\n ['2018-travel/1003023', '2018-travel/1002086'],\n ['28', '30', '67'],\n ['30', '20'])"
          },
          "metadata": {}
        }
      ]
    },
    {
      "metadata": {
        "slideshow": {
          "slide_type": "slide"
        }
      },
      "cell_type": "markdown",
      "source": "__Thats all we have for today. See you next Thursday! :) __"
    }
  ],
  "metadata": {
    "kernelspec": {
      "name": "python3",
      "display_name": "Python 3",
      "language": "python"
    },
    "language_info": {
      "mimetype": "text/x-python",
      "nbconvert_exporter": "python",
      "name": "python",
      "pygments_lexer": "ipython3",
      "version": "3.5.4",
      "file_extension": ".py",
      "codemirror_mode": {
        "version": 3,
        "name": "ipython"
      }
    }
  },
  "nbformat": 4,
  "nbformat_minor": 2
}