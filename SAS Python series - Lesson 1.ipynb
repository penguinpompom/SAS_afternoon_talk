{
 "cells": [
  {
   "cell_type": "markdown",
   "metadata": {},
   "source": [
    "### <center> Lesson 1 - Introduction to basic Python operations"
   ]
  },
  {
   "cell_type": "markdown",
   "metadata": {},
   "source": [
    "#### 1.1 Numerical Operations "
   ]
  },
  {
   "cell_type": "markdown",
   "metadata": {},
   "source": [
    "Addition / Subtraction / Multiplication / Division / Exponentiation / Modulus"
   ]
  },
  {
   "cell_type": "code",
   "execution_count": 1,
   "metadata": {},
   "outputs": [
    {
     "data": {
      "text/plain": [
       "50"
      ]
     },
     "execution_count": 1,
     "metadata": {},
     "output_type": "execute_result"
    }
   ],
   "source": [
    "12 + 38"
   ]
  },
  {
   "cell_type": "code",
   "execution_count": 2,
   "metadata": {},
   "outputs": [
    {
     "data": {
      "text/plain": [
       "24"
      ]
     },
     "execution_count": 2,
     "metadata": {},
     "output_type": "execute_result"
    }
   ],
   "source": [
    "48 - 24"
   ]
  },
  {
   "cell_type": "code",
   "execution_count": 3,
   "metadata": {
    "scrolled": true
   },
   "outputs": [
    {
     "data": {
      "text/plain": [
       "32"
      ]
     },
     "execution_count": 3,
     "metadata": {},
     "output_type": "execute_result"
    }
   ],
   "source": [
    "16 * 2"
   ]
  },
  {
   "cell_type": "code",
   "execution_count": 4,
   "metadata": {},
   "outputs": [
    {
     "data": {
      "text/plain": [
       "8.0"
      ]
     },
     "execution_count": 4,
     "metadata": {},
     "output_type": "execute_result"
    }
   ],
   "source": [
    "16 / 2"
   ]
  },
  {
   "cell_type": "code",
   "execution_count": 5,
   "metadata": {},
   "outputs": [
    {
     "data": {
      "text/plain": [
       "36"
      ]
     },
     "execution_count": 5,
     "metadata": {},
     "output_type": "execute_result"
    }
   ],
   "source": [
    "6 ** 2"
   ]
  },
  {
   "cell_type": "code",
   "execution_count": 6,
   "metadata": {},
   "outputs": [
    {
     "data": {
      "text/plain": [
       "1"
      ]
     },
     "execution_count": 6,
     "metadata": {},
     "output_type": "execute_result"
    }
   ],
   "source": [
    "13 % 3"
   ]
  },
  {
   "cell_type": "markdown",
   "metadata": {},
   "source": [
    "We can string numerical operations together and use brackets to determine the order of operation as well"
   ]
  },
  {
   "cell_type": "code",
   "execution_count": 7,
   "metadata": {},
   "outputs": [
    {
     "data": {
      "text/plain": [
       "332.29629629629636"
      ]
     },
     "execution_count": 7,
     "metadata": {},
     "output_type": "execute_result"
    }
   ],
   "source": [
    "38 + ((24 - 4)/3)**3 - (13%6)*2"
   ]
  },
  {
   "cell_type": "markdown",
   "metadata": {},
   "source": [
    "__On the spot exercise:__\n",
    "\n",
    "QN:  Calculate the present value of $20000 due in 5 years at 4% annual effective rate of interest"
   ]
  },
  {
   "cell_type": "code",
   "execution_count": 8,
   "metadata": {},
   "outputs": [
    {
     "name": "stdout",
     "output_type": "stream",
     "text": [
      "present value: 16439\n"
     ]
    }
   ],
   "source": [
    "lump_sum = 20000\n",
    "years = 5\n",
    "interest = 0.04\n",
    "pv = lump_sum * (1 + interest)**(-years)\n",
    "print('present value: ' + str(round(pv)))"
   ]
  },
  {
   "cell_type": "markdown",
   "metadata": {},
   "source": [
    "Note: Notice the \"In [n]:\" and \"Out[n]:\" ? The \"In\" stands for input and \"Out\" stands for output. The number in the bracket refers to the order in which the code/cell was run."
   ]
  },
  {
   "cell_type": "markdown",
   "metadata": {},
   "source": [
    "#### 1.2 String Operations "
   ]
  },
  {
   "cell_type": "code",
   "execution_count": 9,
   "metadata": {},
   "outputs": [
    {
     "name": "stdout",
     "output_type": "stream",
     "text": [
      "hello world!\n"
     ]
    }
   ],
   "source": [
    "print('hello world!')"
   ]
  },
  {
   "cell_type": "code",
   "execution_count": 10,
   "metadata": {},
   "outputs": [
    {
     "name": "stdout",
     "output_type": "stream",
     "text": [
      "hello world.my name is karthik!\n"
     ]
    }
   ],
   "source": [
    "print('hello world.' + 'my name is karthik!')"
   ]
  },
  {
   "cell_type": "code",
   "execution_count": 11,
   "metadata": {},
   "outputs": [
    {
     "name": "stdout",
     "output_type": "stream",
     "text": [
      "hello!I am karthik\n"
     ]
    }
   ],
   "source": [
    "name = 'karthik'\n",
    "print('hello!I am ' + name)"
   ]
  },
  {
   "cell_type": "code",
   "execution_count": 12,
   "metadata": {},
   "outputs": [
    {
     "ename": "TypeError",
     "evalue": "must be str, not int",
     "output_type": "error",
     "traceback": [
      "\u001b[1;31m---------------------------------------------------------------------------\u001b[0m",
      "\u001b[1;31mTypeError\u001b[0m                                 Traceback (most recent call last)",
      "\u001b[1;32m<ipython-input-12-16ec1cc5cd54>\u001b[0m in \u001b[0;36m<module>\u001b[1;34m()\u001b[0m\n\u001b[1;32m----> 1\u001b[1;33m \u001b[0mprint\u001b[0m\u001b[1;33m(\u001b[0m\u001b[1;34m'hello my name is '\u001b[0m \u001b[1;33m+\u001b[0m \u001b[0mname\u001b[0m \u001b[1;33m+\u001b[0m \u001b[1;34m' and my name has '\u001b[0m \u001b[1;33m+\u001b[0m \u001b[0mlen\u001b[0m\u001b[1;33m(\u001b[0m\u001b[0mname\u001b[0m\u001b[1;33m)\u001b[0m \u001b[1;33m+\u001b[0m \u001b[1;34m' in it!'\u001b[0m\u001b[1;33m)\u001b[0m\u001b[1;33m\u001b[0m\u001b[0m\n\u001b[0m",
      "\u001b[1;31mTypeError\u001b[0m: must be str, not int"
     ]
    }
   ],
   "source": [
    "print('hello my name is ' + name + ' and my name has ' + len(name) + ' in it!')"
   ]
  },
  {
   "cell_type": "markdown",
   "metadata": {},
   "source": [
    "Notice the error above? It happens because len(name) produces a numerical output and Python doesnt understand how to add strings and numbers together. To fix this, we could wrap len(name) with the str() function."
   ]
  },
  {
   "cell_type": "code",
   "execution_count": 13,
   "metadata": {},
   "outputs": [
    {
     "name": "stdout",
     "output_type": "stream",
     "text": [
      "hello my name is karthik and my name has 7 letters in it!\n"
     ]
    }
   ],
   "source": [
    "print('hello my name is ' + name + ' and my name has ' + str(len(name)) + ' letters in it!')"
   ]
  },
  {
   "cell_type": "markdown",
   "metadata": {},
   "source": [
    "#### 1.3 Containers"
   ]
  },
  {
   "cell_type": "markdown",
   "metadata": {},
   "source": [
    "Lists\n",
    "<p> A type of data structure in Python that is changeable and contains items in a specific order. Lists are defined by having values between square brackets [ ]. </p>\n",
    "Lists are generally used to keep data together that belongs together, condense code, and perform the same methods and operations on multiple values at once. The following is an example of a list:\n"
   ]
  },
  {
   "cell_type": "code",
   "execution_count": 14,
   "metadata": {},
   "outputs": [],
   "source": [
    "make = ['BMW', 'Mercedes', 'Audi', 'Honda', 'Toyota', 'Hyundai', 'Porsche']"
   ]
  },
  {
   "cell_type": "markdown",
   "metadata": {},
   "source": [
    "We can get the number of items in a list using the len() function just as we did for strings."
   ]
  },
  {
   "cell_type": "code",
   "execution_count": 15,
   "metadata": {},
   "outputs": [
    {
     "data": {
      "text/plain": [
       "7"
      ]
     },
     "execution_count": 15,
     "metadata": {},
     "output_type": "execute_result"
    }
   ],
   "source": [
    "len(make)"
   ]
  },
  {
   "cell_type": "markdown",
   "metadata": {},
   "source": [
    "It can obtain elements within a list by selecting using their index (position within the list). We do so by typing the name of the list followed by 'selectors': square brackets [ ] "
   ]
  },
  {
   "cell_type": "code",
   "execution_count": 16,
   "metadata": {},
   "outputs": [
    {
     "data": {
      "text/plain": [
       "'BMW'"
      ]
     },
     "execution_count": 16,
     "metadata": {},
     "output_type": "execute_result"
    }
   ],
   "source": [
    "make[0]"
   ]
  },
  {
   "cell_type": "code",
   "execution_count": 17,
   "metadata": {},
   "outputs": [
    {
     "data": {
      "text/plain": [
       "'Honda'"
      ]
     },
     "execution_count": 17,
     "metadata": {},
     "output_type": "execute_result"
    }
   ],
   "source": [
    "make[3]"
   ]
  },
  {
   "cell_type": "code",
   "execution_count": 18,
   "metadata": {},
   "outputs": [
    {
     "ename": "IndexError",
     "evalue": "list index out of range",
     "output_type": "error",
     "traceback": [
      "\u001b[1;31m---------------------------------------------------------------------------\u001b[0m",
      "\u001b[1;31mIndexError\u001b[0m                                Traceback (most recent call last)",
      "\u001b[1;32m<ipython-input-18-4722373f079b>\u001b[0m in \u001b[0;36m<module>\u001b[1;34m()\u001b[0m\n\u001b[1;32m----> 1\u001b[1;33m \u001b[0mmake\u001b[0m\u001b[1;33m[\u001b[0m\u001b[0mlen\u001b[0m\u001b[1;33m(\u001b[0m\u001b[0mmake\u001b[0m\u001b[1;33m)\u001b[0m\u001b[1;33m]\u001b[0m\u001b[1;33m\u001b[0m\u001b[0m\n\u001b[0m",
      "\u001b[1;31mIndexError\u001b[0m: list index out of range"
     ]
    }
   ],
   "source": [
    "make[len(make)]"
   ]
  },
  {
   "cell_type": "code",
   "execution_count": 19,
   "metadata": {},
   "outputs": [
    {
     "data": {
      "text/plain": [
       "'Porsche'"
      ]
     },
     "execution_count": 19,
     "metadata": {},
     "output_type": "execute_result"
    }
   ],
   "source": [
    "make[len(make) - 1]"
   ]
  },
  {
   "cell_type": "markdown",
   "metadata": {},
   "source": [
    "Note that Python is 0 - indexed. Which means Python starts counting from 0 instead of 1."
   ]
  },
  {
   "cell_type": "code",
   "execution_count": 20,
   "metadata": {},
   "outputs": [
    {
     "data": {
      "text/plain": [
       "['Mercedes', 'Audi']"
      ]
     },
     "execution_count": 20,
     "metadata": {},
     "output_type": "execute_result"
    }
   ],
   "source": [
    "make[1:3]"
   ]
  },
  {
   "cell_type": "code",
   "execution_count": 21,
   "metadata": {},
   "outputs": [
    {
     "data": {
      "text/plain": [
       "['BMW', 'Mercedes', 'Audi', 'Honda', 'Toyota', 'Hyundai', 'Porsche', 'Volvo']"
      ]
     },
     "execution_count": 21,
     "metadata": {},
     "output_type": "execute_result"
    }
   ],
   "source": [
    "make.append('Volvo')\n",
    "make"
   ]
  },
  {
   "cell_type": "code",
   "execution_count": 22,
   "metadata": {},
   "outputs": [
    {
     "name": "stdout",
     "output_type": "stream",
     "text": [
      "i drive a Volvo\n"
     ]
    }
   ],
   "source": [
    "print('i drive a ' + make[-1])"
   ]
  },
  {
   "cell_type": "code",
   "execution_count": 23,
   "metadata": {},
   "outputs": [
    {
     "data": {
      "text/plain": [
       "['Audi', 'BMW', 'Honda', 'Hyundai', 'Mercedes', 'Porsche', 'Toyota', 'Volvo']"
      ]
     },
     "execution_count": 23,
     "metadata": {},
     "output_type": "execute_result"
    }
   ],
   "source": [
    "make.sort()\n",
    "make"
   ]
  },
  {
   "cell_type": "markdown",
   "metadata": {},
   "source": [
    "Lets try wrting some *Loops*"
   ]
  },
  {
   "cell_type": "code",
   "execution_count": 24,
   "metadata": {},
   "outputs": [
    {
     "name": "stdout",
     "output_type": "stream",
     "text": [
      "i drive a Audi\n",
      "i drive a BMW\n",
      "i drive a Honda\n",
      "i drive a Hyundai\n",
      "i drive a Mercedes\n",
      "i drive a Porsche\n",
      "i drive a Toyota\n",
      "i drive a Volvo\n"
     ]
    }
   ],
   "source": [
    "for car in make:\n",
    "    print('i drive a ' + car)"
   ]
  },
  {
   "cell_type": "code",
   "execution_count": 25,
   "metadata": {},
   "outputs": [
    {
     "data": {
      "text/plain": [
       "['Honda', 'Hyundai', 'Toyota']"
      ]
     },
     "execution_count": 25,
     "metadata": {},
     "output_type": "execute_result"
    }
   ],
   "source": [
    "contains_a = []\n",
    "for car in make:\n",
    "    if 'a' in car:\n",
    "        contains_a.append(car)\n",
    "contains_a"
   ]
  },
  {
   "cell_type": "code",
   "execution_count": 26,
   "metadata": {},
   "outputs": [
    {
     "data": {
      "text/plain": [
       "['Audi', 'Honda', 'Hyundai', 'Toyota']"
      ]
     },
     "execution_count": 26,
     "metadata": {},
     "output_type": "execute_result"
    }
   ],
   "source": [
    "contains_a = []\n",
    "for car in make:\n",
    "    if 'a' in car.lower():\n",
    "        contains_a.append(car)\n",
    "contains_a"
   ]
  },
  {
   "cell_type": "markdown",
   "metadata": {},
   "source": [
    "__On the spot exercise:__\n",
    "\n",
    "QN:  Given a list of luxury car makes, determine which are the luxury cars in our make list.\n",
    "\n",
    "luxury = ['audi', 'mercedes', 'porsche', 'bmw']"
   ]
  },
  {
   "cell_type": "code",
   "execution_count": 27,
   "metadata": {},
   "outputs": [
    {
     "name": "stdout",
     "output_type": "stream",
     "text": [
      "Audi is a luxury make.\n",
      "BMW is a luxury make.\n",
      "Honda is not a luxury make\n",
      "Hyundai is not a luxury make\n",
      "Mercedes is a luxury make.\n",
      "Porsche is a luxury make.\n",
      "Toyota is not a luxury make\n",
      "Volvo is not a luxury make\n"
     ]
    }
   ],
   "source": [
    "luxury = ['audi', 'mercedes', 'porsche', 'bmw']\n",
    "\n",
    "for car in make:\n",
    "    if car.lower() in luxury:\n",
    "        print(car + ' is a luxury make.')\n",
    "    else:\n",
    "        print(car + ' is not a luxury make')"
   ]
  },
  {
   "cell_type": "markdown",
   "metadata": {},
   "source": [
    "__On the spot exercise:__\n",
    "\n",
    "QN:  Given a list of 'claims' from 2013 to 2017, determine the year to year loss development factors.\n",
    "\n",
    "claims = [15300, 16830, 15999, 18120, 20000]"
   ]
  },
  {
   "cell_type": "code",
   "execution_count": 28,
   "metadata": {},
   "outputs": [
    {
     "data": {
      "text/plain": [
       "[1.1, 0.9506238859180036, 1.1325707856741047, 1.1037527593818985]"
      ]
     },
     "execution_count": 28,
     "metadata": {},
     "output_type": "execute_result"
    }
   ],
   "source": [
    "ldf = []\n",
    "claims = [15300, 16830, 15999, 18120, 20000]\n",
    "\n",
    "for i in range(1,len(claims)):\n",
    "    ldf.append(claims[i]/claims[i - 1])\n",
    "\n",
    "ldf "
   ]
  },
  {
   "cell_type": "markdown",
   "metadata": {},
   "source": [
    "__On the spot exercise:__\n",
    "\n",
    "QN:  Given a list of annual salaries, create a list that categorises each salary into the following bins.\n",
    "\n",
    "salaries = [15300, 16830, 15999, 18120, 20000]\n",
    "\n",
    "low = lesser than 15,500\n",
    "\n",
    "mid = between 15,500 and 19,000\n",
    "\n",
    "high = greater than 19,000"
   ]
  },
  {
   "cell_type": "code",
   "execution_count": 29,
   "metadata": {},
   "outputs": [
    {
     "data": {
      "text/plain": [
       "['low', 'mid', 'mid', 'mid', 'high']"
      ]
     },
     "execution_count": 29,
     "metadata": {},
     "output_type": "execute_result"
    }
   ],
   "source": [
    "income_bracket = []\n",
    "salaries = [15300, 16830, 15999, 18120, 20000]\n",
    "\n",
    "for salary in salaries:\n",
    "    if salary < 15500:\n",
    "        income_bracket.append('low')\n",
    "    elif salary < 19000:\n",
    "        income_bracket.append('mid')\n",
    "    else:\n",
    "        income_bracket.append('high')\n",
    "\n",
    "income_bracket"
   ]
  },
  {
   "cell_type": "markdown",
   "metadata": {},
   "source": [
    "#### 1.4 Functions"
   ]
  },
  {
   "cell_type": "markdown",
   "metadata": {},
   "source": [
    "You use functions in programming to bundle a set of instructions that you want to use repeatedly or that, because of their complexity, are better self-contained in a sub-program and called when needed. That means that a function is a piece of code written to carry out a specified task. To carry out that specific task, the function might or might not need multiple inputs. When the task is carried out, the function can or can not return one or more values.\n",
    "\n",
    "The following are some examples of how functions are written:"
   ]
  },
  {
   "cell_type": "code",
   "execution_count": 30,
   "metadata": {},
   "outputs": [],
   "source": [
    "def sayhello(names):\n",
    "    for name in names:\n",
    "        print('hello ',name,'!')"
   ]
  },
  {
   "cell_type": "code",
   "execution_count": 31,
   "metadata": {},
   "outputs": [],
   "source": [
    "attendees = ['karthik', 'fred', 'mudit']"
   ]
  },
  {
   "cell_type": "code",
   "execution_count": 32,
   "metadata": {},
   "outputs": [
    {
     "name": "stdout",
     "output_type": "stream",
     "text": [
      "hello  karthik !\n",
      "hello  fred !\n",
      "hello  mudit !\n"
     ]
    }
   ],
   "source": [
    "sayhello(attendees)"
   ]
  },
  {
   "cell_type": "code",
   "execution_count": 33,
   "metadata": {},
   "outputs": [],
   "source": [
    "def pv(lumpsum,interest,time):\n",
    "    presentvalue = lumpsum * (1 + interest)**(-time)\n",
    "    return round(presentvalue,2)"
   ]
  },
  {
   "cell_type": "code",
   "execution_count": 34,
   "metadata": {},
   "outputs": [
    {
     "data": {
      "text/plain": [
       "21959.43"
      ]
     },
     "execution_count": 34,
     "metadata": {},
     "output_type": "execute_result"
    }
   ],
   "source": [
    "pv(35000,0.06,8)"
   ]
  },
  {
   "cell_type": "markdown",
   "metadata": {},
   "source": [
    "__On the spot exercise:__\n",
    "\n",
    "QN:  Write a function that translates a list of chinese words to english and returns the list of english words.\n",
    "\n",
    "chinese = ['奥迪', '奔驰', '沃尔沃', '日产', '特斯拉']"
   ]
  },
  {
   "cell_type": "code",
   "execution_count": 35,
   "metadata": {},
   "outputs": [],
   "source": [
    "chinese = ['奥迪', '奔驰', '沃尔沃', '日产', '特斯拉']"
   ]
  },
  {
   "cell_type": "code",
   "execution_count": 36,
   "metadata": {},
   "outputs": [],
   "source": [
    "def zh_to_en(chinesewords, english=[]):\n",
    "    from googletrans import Translator\n",
    "    translator = Translator()\n",
    "    for word in chinesewords:\n",
    "        english.append(translator.translate(word).text)\n",
    "    return english"
   ]
  },
  {
   "cell_type": "code",
   "execution_count": 37,
   "metadata": {},
   "outputs": [
    {
     "data": {
      "text/plain": [
       "['Audi', 'Mercedes-Benz', 'Volvo', 'Nissan', 'Tesla']"
      ]
     },
     "execution_count": 37,
     "metadata": {},
     "output_type": "execute_result"
    }
   ],
   "source": [
    "zh_to_en(chinese)"
   ]
  },
  {
   "cell_type": "markdown",
   "metadata": {},
   "source": [
    "__On the spot exercise:__\n",
    "\n",
    "QN: Write a function that takes in a list of claims developments in a given year and returns a list of LDFs for that year. Your function must be able to allow the option of selecting the number of decimal places to round off results to. By default, round off to 4 decimal places.\n",
    "\n",
    "claims = [15300, 16830, 15999, 18120, 20000]"
   ]
  },
  {
   "cell_type": "code",
   "execution_count": 38,
   "metadata": {},
   "outputs": [],
   "source": [
    "def getldf(claims, ldf = [], dp=4):\n",
    "    for i in range(1, len(claims)):\n",
    "        ldf.append(round(claims[i]/claims[i - 1],dp))\n",
    "    return ldf"
   ]
  },
  {
   "cell_type": "code",
   "execution_count": 39,
   "metadata": {},
   "outputs": [
    {
     "data": {
      "text/plain": [
       "[1.1, 0.9506, 1.1326, 1.1038]"
      ]
     },
     "execution_count": 39,
     "metadata": {},
     "output_type": "execute_result"
    }
   ],
   "source": [
    "claims = [15300, 16830, 15999, 18120, 20000]\n",
    "getldf(claims)"
   ]
  },
  {
   "cell_type": "markdown",
   "metadata": {},
   "source": [
    "__On the spot exercise:__\n",
    "\n",
    "QN: Write a function that takes in a list of contract numbers. Then outputs 3 lists: 1 with contract numbers for a motor policies in 2018, 1 for travel policies in 2018, 1 for the ages of motor policyholders in 2018 and 1 for the ages of travel policyholders in 2018."
   ]
  },
  {
   "cell_type": "code",
   "execution_count": 40,
   "metadata": {},
   "outputs": [],
   "source": [
    "contractnumber = ['2018-motor/1002823', '2016-travel/1001698', '2017-motor/1005410', '2018-motor/1003046', '2018-travel/1003023',\n",
    "                  '2016-travel/1000911', '2018-motor/1006799', '2018-travel/1002086', '2017-travel/1003300', '2017-motor/1001629']"
   ]
  },
  {
   "cell_type": "code",
   "execution_count": 41,
   "metadata": {},
   "outputs": [],
   "source": [
    "def cleandata(contracts):\n",
    "    \n",
    "    motor_2018 = []\n",
    "    travel_2018 = []\n",
    "    motor_2018_age = []\n",
    "    travel_2018_age = []\n",
    "    \n",
    "    for contract in contracts:\n",
    "        if (contract[:4] == '2018') and ('motor' in contract):\n",
    "            motor_2018.append(contract)\n",
    "        elif (contract[:4] == '2018') and ('travel' in contract):\n",
    "            travel_2018.append(contract)\n",
    "    for item in motor_2018:\n",
    "        motor_2018_age.append(item[-4:-2])\n",
    "    for item in travel_2018:\n",
    "        travel_2018_age.append(item[-4:-2])\n",
    "    \n",
    "    return motor_2018, travel_2018, motor_2018_age, travel_2018_age\n"
   ]
  },
  {
   "cell_type": "code",
   "execution_count": 42,
   "metadata": {},
   "outputs": [
    {
     "data": {
      "text/plain": [
       "(['2018-motor/1002823', '2018-motor/1003046', '2018-motor/1006799'],\n",
       " ['2018-travel/1003023', '2018-travel/1002086'],\n",
       " ['28', '30', '67'],\n",
       " ['30', '20'])"
      ]
     },
     "execution_count": 42,
     "metadata": {},
     "output_type": "execute_result"
    }
   ],
   "source": [
    "cleandata(contractnumber)"
   ]
  },
  {
   "cell_type": "code",
   "execution_count": null,
   "metadata": {},
   "outputs": [],
   "source": []
  }
 ],
 "metadata": {
  "kernelspec": {
   "display_name": "Python 3",
   "language": "python",
   "name": "python3"
  },
  "language_info": {
   "codemirror_mode": {
    "name": "ipython",
    "version": 3
   },
   "file_extension": ".py",
   "mimetype": "text/x-python",
   "name": "python",
   "nbconvert_exporter": "python",
   "pygments_lexer": "ipython3",
   "version": "3.6.3"
  }
 },
 "nbformat": 4,
 "nbformat_minor": 2
}
