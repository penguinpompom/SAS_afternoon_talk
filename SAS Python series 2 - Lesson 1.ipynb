{
  "cells": [
    {
      "metadata": {
        "collapsed": true
      },
      "cell_type": "markdown",
      "source": "## <center> Lesson 1 - Introduction to basic Python operations"
    },
    {
      "metadata": {},
      "cell_type": "markdown",
      "source": "<center> **Question 1** </center>\n\n**Task**\n\nYou are given a string. \n\nYour task is to find out if the string  contains: alphanumeric characters, alphabetical characters, digits, lowercase and uppercase characters.\n\nIn the first line, print True if  has any alphanumeric characters. Otherwise, print False. <br>\nIn the second line, print True if  has any alphabetical characters. Otherwise, print False. <br>\nIn the third line, print True if  has any digits. Otherwise, print False. <br>\nIn the fourth line, print True if  has any lowercase characters. Otherwise, print False. <br> \nIn the fifth line, print True if  has any uppercase characters. Otherwise, print False."
    },
    {
      "metadata": {
        "trusted": true
      },
      "cell_type": "code",
      "source": "def string_validation():\n    s = input()\n    print(any([char.isalnum() for char in s]))\n    print(any([char.isalpha() for char in s]))\n    print(any([char.isdigit() for char in s]))\n    print(any([char.islower() for char in s]))\n    print(any([char.isupper() for char in s]))",
      "execution_count": 3,
      "outputs": []
    },
    {
      "metadata": {
        "trusted": true
      },
      "cell_type": "markdown",
      "source": "<center> **Question 2** </center>\n\n**Task**\n\nGiven an integer, perform the following conditional actions:\n\nIf  is odd, print Weird <br>\nIf  is even and in the inclusive range of 2 to 5, print Not Weird <br>\nIf  is even and in the inclusive range of 6 to 20, print Weird <br>\nIf  is even and greater than 20, print Not Weird"
    },
    {
      "metadata": {
        "trusted": true
      },
      "cell_type": "code",
      "source": "def wierd(n):\n    if n % 2 == 1 or 6 <= n <= 20:\n        print('Weird')\n    else:\n        print('Not Weird')",
      "execution_count": 5,
      "outputs": []
    },
    {
      "metadata": {},
      "cell_type": "markdown",
      "source": "<center> **Question 3** </center>\n\nWe add a Leap Day on February 29, almost every four years. The leap day is an extra, or intercalary day and we add it to the shortest month of the year, February. \nIn the Gregorian calendar three criteria must be taken into account to identify leap years:\n\nThe year can be evenly divided by 4, is a leap year, unless:\nThe year can be evenly divided by 100, it is NOT a leap year, unless:\nThe year is also evenly divisible by 400. Then it is a leap year.\nThis means that in the Gregorian calendar, the years 2000 and 2400 are leap years, while 1800, 1900, 2100, 2200, 2300 and 2500 are NOT leap years.Source\n\n**Task** <br> \nYou are given the year, and you have to write a function to check if the year is leap or not."
    },
    {
      "metadata": {
        "trusted": true
      },
      "cell_type": "code",
      "source": "def is_leap(year):\n    leap = False\n    if(year % 400 == 0):\n        leap = True\n    elif(year % 4 == 0 and year % 100 != 0):\n        leap = True\n    return leap",
      "execution_count": 1,
      "outputs": []
    },
    {
      "metadata": {},
      "cell_type": "markdown",
      "source": "<center> **Question 4** </center>\n\n**Task** <br> \nGiven a list of claims, write a function that takes the list as an input and outputs the mean claim amount.<br>\nclaims = [15300, 16830, 'NA', 18120, 20000, 123141, 'NA', 235254, 65008]"
    },
    {
      "metadata": {
        "trusted": true
      },
      "cell_type": "code",
      "source": "claims = [15300, 16830, 'NA', 18120, 20000, 123141, 'NA', 235254, 65008]",
      "execution_count": 49,
      "outputs": []
    },
    {
      "metadata": {
        "trusted": true
      },
      "cell_type": "code",
      "source": "def get_mean(claims):\n    for i, c in enumerate(claims):\n        if type(c) != int:\n            claims[i] = 0\n    total = sum(claims)\n    count = len(claims)  \n    mean = round(total / count, 2)\n    return mean",
      "execution_count": 52,
      "outputs": []
    },
    {
      "metadata": {
        "trusted": true
      },
      "cell_type": "code",
      "source": "get_mean(claims)",
      "execution_count": 51,
      "outputs": [
        {
          "output_type": "execute_result",
          "execution_count": 51,
          "data": {
            "text/plain": "54850.33"
          },
          "metadata": {}
        }
      ]
    },
    {
      "metadata": {},
      "cell_type": "markdown",
      "source": "<center> **Question 5** </center>\n\n**Task** <br> \nGiven a list of claims, write a function that takes the list as an input and outputs the mean claim amount.<br>\nclaims = [15300, 16830, 18120, 20000, 123141, 235254, 65008]"
    },
    {
      "metadata": {},
      "cell_type": "markdown",
      "source": "<center> **Question 6** </center>\n\n**Task** <br>\nWrite a function that takes in 2 integers inputs and outputs three lines where:\n\nThe first line contains the sum of the two numbers. <br>\nThe second line contains the difference of the two numbers (first - second). <br>\nThe third line contains the product of the two numbers."
    },
    {
      "metadata": {
        "trusted": true
      },
      "cell_type": "code",
      "source": "def num():\n    a = int(input())\n    b = int(input())\n    add = a + b\n    diff = a - b\n    prod = a*b\n    print('sum: ', add)\n    print('difference: ', diff)\n    print('product: ', prod)",
      "execution_count": 5,
      "outputs": []
    },
    {
      "metadata": {
        "trusted": true
      },
      "cell_type": "code",
      "source": "num()",
      "execution_count": 6,
      "outputs": [
        {
          "output_type": "stream",
          "name": "stdout",
          "text": "6\n12\nsum:  18\ndifference:  -6\nproduct:  72\n"
        }
      ]
    },
    {
      "metadata": {
        "trusted": true
      },
      "cell_type": "markdown",
      "source": "<center> **Question 7** </center>\n\n**Task** <br>\n\nWrite a function that takes in a list of claims developments in a given year and returns a list of LDFs for that year. Your function must be able to allow the option of selecting the number of decimal places to round off results to. By default, round off to 4 decimal places.\n\nclaims = [15300, 16830, 15999, 18120, 20000]"
    },
    {
      "metadata": {
        "trusted": true
      },
      "cell_type": "code",
      "source": "claims = [15300, 16830, 15999, 18120, 20000]\n\ndef getldf(claims):\n    ldf = []\n    for i in range(1, len(claims)):\n        ldf.append(claims[i]/claims[i - 1])\n    return ldf",
      "execution_count": 7,
      "outputs": []
    },
    {
      "metadata": {
        "trusted": true
      },
      "cell_type": "code",
      "source": "getldf(claims)",
      "execution_count": 8,
      "outputs": [
        {
          "output_type": "execute_result",
          "execution_count": 8,
          "data": {
            "text/plain": "[1.1, 0.9506238859180036, 1.1325707856741047, 1.1037527593818985]"
          },
          "metadata": {}
        }
      ]
    },
    {
      "metadata": {},
      "cell_type": "markdown",
      "source": "<center> **Question 8** </center>\n\n**Task** <br>\n\nGiven a list of cars in chinese and a dictionary that maps chinese names to english names, write a function that maps the dictionary keys to the list entries and returns the values.\n\n\nch_cars = ['奥迪', '奔驰', '沃尔沃', '日产', '特斯拉', '奔驰', '沃尔沃', '日产', '特斯拉', '沃尔沃', '日产', '特斯拉']\n\nch_eng = {'奥迪': 'Audi', '奔驰': 'Mercedes', '沃尔沃': 'Volvo', '日产': 'Nissan', '特斯拉': 'Tesla'}"
    },
    {
      "metadata": {
        "trusted": true
      },
      "cell_type": "code",
      "source": "ch_cars = ['奥迪', '奔驰', '沃尔沃', '日产', '特斯拉', '奔驰', '沃尔沃', '日产', '特斯拉', '沃尔沃', '日产', '特斯拉']\n\nch_eng = {'奥迪': 'Audi', '奔驰': 'Mercedes', '沃尔沃': 'Volvo', '日产': 'Nissan', '特斯拉': 'Tesla'}",
      "execution_count": 1,
      "outputs": []
    },
    {
      "metadata": {
        "trusted": true
      },
      "cell_type": "code",
      "source": "def lookup(dictionary, items):\n    return list(map(dictionary.get, items))",
      "execution_count": 2,
      "outputs": []
    },
    {
      "metadata": {
        "trusted": true
      },
      "cell_type": "code",
      "source": "lookup(ch_eng, ch_cars)",
      "execution_count": 4,
      "outputs": [
        {
          "output_type": "execute_result",
          "execution_count": 4,
          "data": {
            "text/plain": "['Audi',\n 'Mercedes',\n 'Volvo',\n 'Nissan',\n 'Tesla',\n 'Mercedes',\n 'Volvo',\n 'Nissan',\n 'Tesla',\n 'Volvo',\n 'Nissan',\n 'Tesla']"
          },
          "metadata": {}
        }
      ]
    },
    {
      "metadata": {
        "trusted": true
      },
      "cell_type": "code",
      "source": "",
      "execution_count": null,
      "outputs": []
    }
  ],
  "metadata": {
    "kernelspec": {
      "name": "python36",
      "display_name": "Python 3.6",
      "language": "python"
    },
    "language_info": {
      "mimetype": "text/x-python",
      "nbconvert_exporter": "python",
      "name": "python",
      "pygments_lexer": "ipython3",
      "version": "3.6.6",
      "file_extension": ".py",
      "codemirror_mode": {
        "version": 3,
        "name": "ipython"
      }
    }
  },
  "nbformat": 4,
  "nbformat_minor": 2
}